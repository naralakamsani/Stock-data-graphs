{
 "cells": [
  {
   "cell_type": "code",
   "execution_count": 130,
   "metadata": {},
   "outputs": [],
   "source": [
    "from bokeh.plotting import figure, show, output_file\n",
    "from pandas_datareader import data\n",
    "import datetime\n",
    "\n",
    "start=datetime.datetime(2019,6,1)\n",
    "end=datetime.datetime(2020,2,10)\n",
    "\n",
    "df=data.DataReader(\"AAPL\", \"yahoo\", start=start,end=end)\n",
    "\n",
    "def inc_dec(c,o):\n",
    "    if c>o:\n",
    "        value = \"Increase\"\n",
    "    elif c<o:\n",
    "        value = \"Decrease\"\n",
    "    else:\n",
    "        value = \"Equal\"\n",
    "    return value\n",
    "df[\"status\"]=[inc_dec(c,o) for c,o in zip(df.Close,df.Open)]\n",
    "df[\"middle\"]=(df.Open+df.Close)/2\n",
    "df[\"change\"]=abs(df.Open-df.Close)\n",
    "\n",
    "p=figure(x_axis_type='datetime',width=1500,height=750,title=\"Stock Price Change Per_Day\",sizing_mode=\"scale_width\")\n",
    "\n",
    "p.grid.grid_line_alpha=0.3\n",
    "\n",
    "twelve_hours=12*60*60*1000\n",
    "\n",
    "p.segment(df.index,df.High,df.index,df.Low,color=\"black\")\n",
    "p.rect(df.index[df.status==\"Increase\"],df.middle[df.status==\"Increase\"], twelve_hours,df.change[df.status==\"Increase\"],fill_color=\"green\",line_color=\"black\")\n",
    "p.rect(df.index[df.status==\"Decrease\"],df.middle[df.status==\"Decrease\"], twelve_hours,df.change[df.status==\"Decrease\"],fill_color=\"red\",line_color=\"black\")\n",
    "\n",
    "output_file(\"stock_price_change_per_day.html\")\n",
    "\n",
    "show(p)"
   ]
  },
  {
   "cell_type": "code",
   "execution_count": null,
   "metadata": {},
   "outputs": [],
   "source": []
  }
 ],
 "metadata": {
  "kernelspec": {
   "display_name": "Python 3",
   "language": "python",
   "name": "python3"
  },
  "language_info": {
   "codemirror_mode": {
    "name": "ipython",
    "version": 3
   },
   "file_extension": ".py",
   "mimetype": "text/x-python",
   "name": "python",
   "nbconvert_exporter": "python",
   "pygments_lexer": "ipython3",
   "version": "3.7.5"
  }
 },
 "nbformat": 4,
 "nbformat_minor": 2
}
